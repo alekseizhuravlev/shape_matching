{
 "cells": [
  {
   "cell_type": "code",
   "execution_count": null,
   "metadata": {},
   "outputs": [],
   "source": [
    "!pip install trimesh==4.5.2"
   ]
  },
  {
   "cell_type": "code",
   "execution_count": null,
   "metadata": {},
   "outputs": [],
   "source": [
    "import torch\n",
    "import trimesh\n",
    "import numpy as np\n",
    "\n",
    "def spawn_sphere(scene, center, color):\n",
    "    sphere = trimesh.creation.uv_sphere(radius=0.01)\n",
    "    sphere.visual.vertex_colors = np.array(color, dtype=np.uint8)\n",
    "    sphere.apply_translation(center)\n",
    "    \n",
    "    scene.add_geometry(sphere)\n",
    "    \n",
    "    return sphere\n",
    "    \n",
    "\n",
    "\n",
    "scene = trimesh.Scene()\n",
    "\n",
    "\n",
    "mesh = trimesh.load('/home/s94zalek_hpc/shape_matching/data/SMAL_r/off/lion_01.off')\n",
    "\n",
    "verts_cloned = torch.tensor(mesh.vertices, dtype=torch.float32)\n",
    "verts = torch.tensor(mesh.vertices, dtype=torch.float32)\n",
    "\n",
    "verts[:, 0] = verts_cloned[:, 2]\n",
    "verts[:, 1] = -verts_cloned[:, 1]\n",
    "verts[:, 2] = verts_cloned[:, 0]\n",
    "\n",
    "# rotate by 90 degrees around y axis clockwise\n",
    "theta = -180\n",
    "theta = torch.deg2rad(torch.tensor(theta).float())\n",
    "rot_mat = torch.tensor([\n",
    "    [torch.cos(theta), 0, torch.sin(theta)],\n",
    "    [0, 1, 0],\n",
    "    [-torch.sin(theta), 0, torch.cos(theta)]\n",
    "])\n",
    "\n",
    "verts = verts @ rot_mat.T\n",
    "\n",
    "\n",
    "\n",
    "mesh.vertices = verts.numpy()\n",
    "\n",
    "\n",
    "mesh.apply_transform(trimesh.transformations.rotation_matrix(np.pi, [0, 1, 0], [0, 0, 0]))\n",
    "mesh.apply_transform(trimesh.transformations.rotation_matrix(np.pi/32, [0, 0, 1], [0, 0, 0]))\n",
    "\n",
    "mesh.visual.vertex_colors = np.array([200, 200, 200, 255], dtype=np.uint8)\n",
    "\n",
    "# mesh.visual.vertex_colors = np.array([0, 255, 255, 255], dtype=np.uint8)\n"
   ]
  },
  {
   "cell_type": "code",
   "execution_count": null,
   "metadata": {},
   "outputs": [],
   "source": [
    "sphere_list = [\n",
    "    (mesh.vertices[1000], [0, 0, 255, 255]),\n",
    "    (mesh.vertices[2500], [0, 0, 255, 255]),\n",
    "    (mesh.vertices[3500], [0, 0, 255, 255]),\n",
    "    (mesh.vertices[3700], [0, 0, 255, 255]),\n",
    "    (mesh.vertices[3630], [0, 255, 0, 255]),\n",
    "    (mesh.vertices[3660], [0, 0, 255, 255]),\n",
    "    \n",
    "]\n",
    "\n",
    "\n",
    "\n",
    "scene.geometry.clear()\n",
    "\n",
    "scene.add_geometry(mesh)\n",
    "\n",
    "\n",
    "for center, color in sphere_list:\n",
    "    sphere = spawn_sphere(scene, center, color)\n",
    "\n",
    "\n",
    "scene.set_camera()\n",
    "scene.show()"
   ]
  },
  {
   "cell_type": "code",
   "execution_count": null,
   "metadata": {},
   "outputs": [],
   "source": [
    "import pyvirtualdisplay\n",
    "\n",
    "with pyvirtualdisplay.Display(visible=False, size=(1920, 1080)) as disp:\n",
    "    png = scene.save_image(resolution=(int(1920), 1080), visible=True)\n",
    "\n",
    "with open(f\"/home/s94zalek_hpc/shape_matching/notebooks/rebuttal/smal_qualitative/dirichlet_median_lion_new.png\", \"wb\") as f:\n",
    "    f.write(png)"
   ]
  },
  {
   "cell_type": "markdown",
   "metadata": {},
   "source": [
    "## Render cow"
   ]
  },
  {
   "cell_type": "code",
   "execution_count": null,
   "metadata": {},
   "outputs": [],
   "source": [
    "mesh = trimesh.load('/home/s94zalek_hpc/shape_matching/data/SMAL_r/off/cow_02.off')\n",
    "\n",
    "verts_cloned = torch.tensor(mesh.vertices, dtype=torch.float32)\n",
    "verts = torch.tensor(mesh.vertices, dtype=torch.float32)\n",
    "\n",
    "verts[:, 0] = verts_cloned[:, 2]\n",
    "verts[:, 1] = -verts_cloned[:, 1]\n",
    "verts[:, 2] = verts_cloned[:, 0]\n",
    "\n",
    "# rotate by 90 degrees around y axis clockwise\n",
    "theta = -180\n",
    "theta = torch.deg2rad(torch.tensor(theta).float())\n",
    "rot_mat = torch.tensor([\n",
    "    [torch.cos(theta), 0, torch.sin(theta)],\n",
    "    [0, 1, 0],\n",
    "    [-torch.sin(theta), 0, torch.cos(theta)]\n",
    "])\n",
    "\n",
    "verts = verts @ rot_mat.T\n",
    "\n",
    "\n",
    "\n",
    "mesh.vertices = verts.numpy()\n",
    "\n",
    "\n",
    "mesh.apply_transform(trimesh.transformations.rotation_matrix(np.pi/4, [0, 1, 0], [0, 0, 0]))\n",
    "mesh.apply_transform(trimesh.transformations.rotation_matrix(np.pi/32, [0, 0, 1], [0, 0, 0]))\n",
    "\n",
    "mesh.visual.vertex_colors = np.array([200, 200, 200, 255], dtype=np.uint8)\n",
    "\n",
    "scene.geometry.clear()\n",
    "\n",
    "scene.add_geometry(mesh)\n",
    "\n",
    "scene.show()"
   ]
  },
  {
   "cell_type": "code",
   "execution_count": null,
   "metadata": {},
   "outputs": [],
   "source": [
    "import pyvirtualdisplay\n",
    "\n",
    "with pyvirtualdisplay.Display(visible=False, size=(1920, 1080)) as disp:\n",
    "    png = scene.save_image(resolution=(int(1920), 1080), visible=True)\n",
    "\n",
    "with open(f\"/home/s94zalek_hpc/shape_matching/notebooks/rebuttal/smal_qualitative/dirichlet_median_cow.png\", \"wb\") as f:\n",
    "    f.write(png)"
   ]
  },
  {
   "cell_type": "code",
   "execution_count": null,
   "metadata": {},
   "outputs": [],
   "source": []
  }
 ],
 "metadata": {
  "kernelspec": {
   "display_name": "Python 3 (ipykernel)",
   "language": "python",
   "name": "python3"
  },
  "language_info": {
   "codemirror_mode": {
    "name": "ipython",
    "version": 3
   },
   "file_extension": ".py",
   "mimetype": "text/x-python",
   "name": "python",
   "nbconvert_exporter": "python",
   "pygments_lexer": "ipython3",
   "version": "3.8.20"
  }
 },
 "nbformat": 4,
 "nbformat_minor": 2
}
