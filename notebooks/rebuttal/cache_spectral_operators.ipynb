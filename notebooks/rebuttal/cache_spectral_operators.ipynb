{
 "cells": [
  {
   "cell_type": "markdown",
   "metadata": {},
   "source": [
    "## Save vertices and faces"
   ]
  },
  {
   "cell_type": "code",
   "execution_count": 11,
   "metadata": {},
   "outputs": [],
   "source": [
    "import trimesh\n",
    "import torch\n",
    "\n",
    "mesh_template = trimesh.load_mesh('/home/s94zalek_hpc/shape_matching/data/SMAL_templates/original/template.off',\n",
    "                                  process=False, validate=False)\n",
    "\n",
    "faces = torch.tensor(mesh_template.faces, dtype=torch.long)\n",
    "print(faces.shape)\n",
    "\n",
    "torch.save(faces,\n",
    "           '/lustre/mlnvme/data/s94zalek_hpc-shape_matching/data_denoisfm/train/SMAL/faces.pt')"
   ]
  },
  {
   "cell_type": "code",
   "execution_count": 12,
   "metadata": {},
   "outputs": [],
   "source": [
    "verts = torch.load('/lustre/mlnvme/data/s94zalek_hpc-shape_matching/data_denoisfm/train/SMAL/verts.pt', mmap=True, weights_only=True)\n",
    "faces = torch.load('/lustre/mlnvme/data/s94zalek_hpc-shape_matching/data_denoisfm/train/SMAL/faces.pt', mmap=True, weights_only=True)\n",
    "\n",
    "print(verts.dtype, verts.shape)\n",
    "print(faces.dtype, faces.shape)\n"
   ]
  },
  {
   "cell_type": "code",
   "execution_count": 9,
   "metadata": {},
   "outputs": [],
   "source": [
    "scene = trimesh.Scene()"
   ]
  },
  {
   "cell_type": "code",
   "execution_count": null,
   "metadata": {},
   "outputs": [],
   "source": [
    "mesh_i = trimesh.Trimesh(vertices=verts[10000].numpy(), faces=faces.numpy())\n",
    "\n",
    "scene.geometry.clear()\n",
    "scene.add_geometry(mesh_i)\n",
    "scene.show()"
   ]
  },
  {
   "cell_type": "markdown",
   "metadata": {},
   "source": [
    "## Test caching spectral ops"
   ]
  },
  {
   "cell_type": "code",
   "execution_count": 18,
   "metadata": {},
   "outputs": [],
   "source": [
    "import importlib\n",
    "importlib.reload(remesh_util)"
   ]
  },
  {
   "cell_type": "code",
   "execution_count": 1,
   "metadata": {},
   "outputs": [],
   "source": [
    "import argparse\n",
    "import logging\n",
    "import random\n",
    "\n",
    "import denoisfm.utils.geometry_util as geometry_util\n",
    "import denoisfm.utils.shape_util as shape_util\n",
    "import numpy as np\n",
    "import torch\n",
    "import denoisfm.utils.remesh_util as remesh_util\n",
    "from tqdm import tqdm\n",
    "import os\n",
    "\n",
    "\n",
    "# parameters for remeshing SMPL or SMAL shapes\n",
    "config_aug = {\n",
    "    \"isotropic\": {\n",
    "        \"simplify_strength_min\": 0.2,  # min/max % of ALL faces to keep after simplification\n",
    "        \"simplify_strength_max\": 0.8,\n",
    "    },\n",
    "    \"anisotropic\": {\n",
    "        \"probability\": 0.0,  # probability of applying anisotropic remeshing\n",
    "        \"fraction_to_simplify_min\": 0.2,  # min/max % of faces to SELECT for simplification\n",
    "        \"fraction_to_simplify_max\": 0.6,\n",
    "        \"simplify_strength_min\": 0.2,  # from the SELECTED faces, min/max % to keep after simplification\n",
    "        \"simplify_strength_max\": 0.5,\n",
    "    },\n",
    "}\n",
    "\n",
    "# rewrite args as a class\n",
    "class Args:\n",
    "    input_dir = '/lustre/mlnvme/data/s94zalek_hpc-shape_matching/data_denoisfm/train/SURREAL'\n",
    "    n_shapes = 10\n",
    "    output_dir = '/lustre/mlnvme/data/s94zalek_hpc-shape_matching/data_denoisfm/sign_training'\n",
    "\n",
    "args = Args()\n",
    "\n"
   ]
  },
  {
   "cell_type": "code",
   "execution_count": 2,
   "metadata": {},
   "outputs": [],
   "source": [
    "torch.manual_seed(1)\n",
    "np.random.seed(1)\n",
    "random.seed(1)\n",
    "\n",
    "logging.basicConfig(\n",
    "    level=logging.INFO,\n",
    "    format=\"%(asctime)s - %(levelname)s - %(message)s\",\n",
    "    datefmt=\"%Y-%m-%d %H:%M:%S\",\n",
    ")\n",
    "\n",
    "##########################################\n",
    "# Load shapes\n",
    "##########################################\n",
    "\n",
    "# load the vertices\n",
    "shapes_verts = torch.load(f\"{args.input_dir}/verts.pt\", mmap=True)\n",
    "\n",
    "# load the faces (same for all shapes)\n",
    "shapes_faces = torch.load(f\"{args.input_dir}/faces.pt\", mmap=True)\n",
    "\n",
    "logging.info(\"Source shapes loaded\")\n"
   ]
  },
  {
   "cell_type": "code",
   "execution_count": 3,
   "metadata": {},
   "outputs": [],
   "source": [
    "\n",
    "##########################################\n",
    "# Generate data\n",
    "##########################################\n",
    "\n",
    "# random_idxs = np.random.choice(len(shapes_verts), args.n_shapes, replace=False)\n",
    "\n",
    "random_idxs = range(10, 110, 10)\n",
    "\n",
    "# remove the output directory if it exists\n",
    "if os.path.exists(args.output_dir):\n",
    "    os.system(f\"rm -r {args.output_dir}\")\n",
    "\n",
    "dir_off = f\"{args.output_dir}/off\"\n",
    "dir_spectral = f\"{args.output_dir}/diffusion\"\n",
    "os.makedirs(dir_off, exist_ok=True)\n",
    "os.makedirs(dir_spectral, exist_ok=True)\n",
    "\n",
    "for i in tqdm(range(args.n_shapes), desc=\"Generating data\"):\n",
    "    \n",
    "    # remesh the shape\n",
    "    verts, faces, corr = remesh_util.augmentation_pipeline(\n",
    "        verts_orig=shapes_verts[random_idxs[i]],\n",
    "        faces_orig=shapes_faces,\n",
    "        config=config_aug,\n",
    "    )\n",
    "    # rotation and scaling\n",
    "    verts_aug = geometry_util.data_augmentation(\n",
    "        verts.unsqueeze(0),\n",
    "        rot_x=0,\n",
    "        rot_y=90,  # random rotation around y-axis\n",
    "        rot_z=0,\n",
    "        std=0,  # no random noise\n",
    "        scale_min=0.9,  # random scaling\n",
    "        scale_max=1.1,\n",
    "    )[0]\n",
    "\n",
    "    # save the mesh\n",
    "    shape_util.write_off(\n",
    "        f\"{dir_off}/{i:04}.off\", verts_aug.cpu().numpy(), faces.cpu().numpy()\n",
    "    )\n",
    "    \n",
    "    # read the mesh again\n",
    "    # verts_aug, faces = shape_util.read_shape(f\"{dir_off}/{i:04}.off\")\n",
    "            \n",
    "    # verts_aug = torch.tensor(verts_aug, dtype=torch.float32)\n",
    "    # faces = torch.tensor(faces, dtype=torch.long)\n",
    "    \n",
    "    # calculate and cache the laplacian\n",
    "    geometry_util.get_operators(verts_aug, faces, k=128, cache_dir=dir_spectral)\n"
   ]
  },
  {
   "cell_type": "code",
   "execution_count": 4,
   "metadata": {},
   "outputs": [],
   "source": [
    "def load_cached_shapes(input_dir, k_eig):\n",
    "    off_dir = f\"{input_dir}/off\"\n",
    "    spectral_dir = f\"{input_dir}/diffusion\"\n",
    "\n",
    "    # get all meshes in the folder\n",
    "    off_files = sorted([f for f in os.listdir(off_dir) if f.endswith(\".off\")])\n",
    "\n",
    "    shapes_list = []\n",
    "    for file in tqdm(off_files, desc=\"Loading shapes and spectral operators\"):\n",
    "        # load the vertices and faces\n",
    "        verts, faces = shape_util.read_shape(os.path.join(off_dir, file))\n",
    "        verts = torch.tensor(verts, dtype=torch.float32)\n",
    "        faces = torch.tensor(faces, dtype=torch.long)\n",
    "\n",
    "        # load the spectral operators cached in spectral_dir\n",
    "        _, mass, L, evals, evecs, gradX, gradY = geometry_util.get_operators(\n",
    "            verts, faces, k=k_eig, cache_dir=spectral_dir\n",
    "        )\n",
    "        shapes_list.append(\n",
    "            {\n",
    "                \"verts\": verts,\n",
    "                \"faces\": faces,\n",
    "                \"evecs\": evecs,\n",
    "                \"mass\": mass,\n",
    "                \"L\": L,\n",
    "                \"evals\": evals,\n",
    "                \"gradX\": gradX,\n",
    "                \"gradY\": gradY,\n",
    "            }\n",
    "        )\n",
    "    return shapes_list\n"
   ]
  },
  {
   "cell_type": "code",
   "execution_count": 5,
   "metadata": {},
   "outputs": [],
   "source": [
    "load_cached_shapes(args.output_dir, 128)"
   ]
  },
  {
   "cell_type": "code",
   "execution_count": 7,
   "metadata": {},
   "outputs": [],
   "source": [
    "import trimesh\n",
    "\n",
    "mesh = trimesh.load('/home/s94zalek_hpc/DenoisingFunctionalMaps/data/template_human/template.off')\n",
    "\n",
    "verts = torch.tensor(mesh.vertices)\n",
    "faces = torch.tensor(mesh.faces)\n",
    "\n",
    "_, mass, L, evals, evecs, gradX, gradY = geometry_util.get_operators(\n",
    "            verts, faces, k=128\n",
    "        )\n",
    "# "
   ]
  },
  {
   "cell_type": "code",
   "execution_count": 8,
   "metadata": {},
   "outputs": [],
   "source": [
    "evecs"
   ]
  },
  {
   "cell_type": "code",
   "execution_count": 10,
   "metadata": {},
   "outputs": [],
   "source": [
    "from denoisfm.sign_correction import area_normalize\n",
    "\n",
    "evecs_norm = area_normalize(evecs, mass)"
   ]
  },
  {
   "cell_type": "code",
   "execution_count": 13,
   "metadata": {},
   "outputs": [],
   "source": [
    "(evecs - evecs_norm).abs().sum()"
   ]
  },
  {
   "cell_type": "code",
   "execution_count": 15,
   "metadata": {},
   "outputs": [],
   "source": [
    "torch.nn.functional.normalize(evecs, p=2, dim=1)"
   ]
  }
 ],
 "metadata": {
  "kernelspec": {
   "display_name": "Python 3 (ipykernel)",
   "language": "python",
   "name": "python3"
  }
 },
 "nbformat": 4,
 "nbformat_minor": 2
}
