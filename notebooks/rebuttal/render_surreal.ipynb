{
 "cells": [
  {
   "cell_type": "code",
   "execution_count": null,
   "metadata": {},
   "outputs": [],
   "source": [
    "import torch\n",
    "\n",
    "data_surreal = torch.load('/lustre/mlnvme/data/s94zalek_hpc-shape_matching/mmap_datas_surreal_train.pth', mmap=True, weights_only=True)"
   ]
  },
  {
   "cell_type": "code",
   "execution_count": null,
   "metadata": {},
   "outputs": [],
   "source": [
    "import trimesh\n",
    "\n",
    "template = trimesh.load('/home/s94zalek_hpc/shape_matching/data/SURREAL_full/template/original/template.off',\n",
    "                        process=False, validate=False)\n",
    "scene = trimesh.Scene()"
   ]
  },
  {
   "cell_type": "code",
   "execution_count": null,
   "metadata": {},
   "outputs": [],
   "source": [
    "import numpy as np\n",
    "\n",
    "scene.geometry.clear()\n",
    "\n",
    "idx = 20\n",
    "\n",
    "mesh_i = trimesh.Trimesh(vertices=data_surreal[idx].cpu().numpy(), faces=template.faces)\n",
    "mesh_i.visual.vertex_colors = np.array([200, 200, 200, 255], dtype=np.uint8)\n",
    "\n",
    "\n",
    "scene.add_geometry(mesh_i)\n",
    "\n",
    "scene.show()"
   ]
  },
  {
   "cell_type": "code",
   "execution_count": null,
   "metadata": {},
   "outputs": [],
   "source": [
    "import pyvirtualdisplay\n",
    "\n",
    "proportion = (mesh_i.vertices[:, 0].max() - mesh_i.vertices[:, 0].min()) / (mesh_i.vertices[:, 1].max() - mesh_i.vertices[:, 1].min())\n",
    "\n",
    "with pyvirtualdisplay.Display(visible=False, size=(1920, 1080)) as disp:\n",
    "    png = scene.save_image(resolution=(int(proportion*1080), 1080), visible=True)\n",
    "\n",
    "with open(f\"/home/s94zalek_hpc/shape_matching/notebooks/rebuttal/surreal_meshes/{idx}.png\", \"wb\") as f:\n",
    "    f.write(png)"
   ]
  }
 ],
 "metadata": {
  "kernelspec": {
   "display_name": "Python 3 (ipykernel)",
   "language": "python",
   "name": "python3"
  },
  "language_info": {
   "codemirror_mode": {
    "name": "ipython",
    "version": 3
   },
   "file_extension": ".py",
   "mimetype": "text/x-python",
   "name": "python",
   "nbconvert_exporter": "python",
   "pygments_lexer": "ipython3",
   "version": "3.8.20"
  }
 },
 "nbformat": 4,
 "nbformat_minor": 2
}
